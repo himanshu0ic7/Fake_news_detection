{
  "nbformat": 4,
  "nbformat_minor": 0,
  "metadata": {
    "colab": {
      "provenance": [],
      "gpuType": "T4"
    },
    "kernelspec": {
      "name": "python3",
      "display_name": "Python 3"
    },
    "language_info": {
      "name": "python"
    },
    "accelerator": "GPU"
  },
  "cells": [
    {
      "cell_type": "markdown",
      "source": [
        "# News Dataset"
      ],
      "metadata": {
        "id": "ELpdjXyq-0xJ"
      }
    },
    {
      "cell_type": "code",
      "execution_count": null,
      "metadata": {
        "id": "E3DdvoC69u47"
      },
      "outputs": [],
      "source": [
        "import numpy as np\n",
        "import pandas as pd\n",
        "import matplotlib.pyplot as plt\n",
        "import seaborn as sns"
      ]
    },
    {
      "cell_type": "code",
      "source": [
        "df=pd.read_csv(\"/content/drive/MyDrive/Colab Notebooks/Turing AI/news.csv\")\n",
        "df.sample(2)"
      ],
      "metadata": {
        "colab": {
          "base_uri": "https://localhost:8080/",
          "height": 112
        },
        "id": "eqPfJczi97xt",
        "outputId": "19fa9835-d031-4d75-de3d-e0fd8b791c11"
      },
      "execution_count": null,
      "outputs": [
        {
          "output_type": "execute_result",
          "data": {
            "text/plain": [
              "      Unnamed: 0                                              title  \\\n",
              "5416        4345          Is Hillary Running for Bill’s Third Term?   \n",
              "352         4930  Trump and advisers remain split on how far to ...   \n",
              "\n",
              "                                                   text label  \n",
              "5416  When Hillary Clinton announces her candidacy o...  REAL  \n",
              "352   Ten days after he appointed new campaign leade...  REAL  "
            ],
            "text/html": [
              "\n",
              "  <div id=\"df-c36cf4cd-2d02-4c00-b857-ba9bac592f97\" class=\"colab-df-container\">\n",
              "    <div>\n",
              "<style scoped>\n",
              "    .dataframe tbody tr th:only-of-type {\n",
              "        vertical-align: middle;\n",
              "    }\n",
              "\n",
              "    .dataframe tbody tr th {\n",
              "        vertical-align: top;\n",
              "    }\n",
              "\n",
              "    .dataframe thead th {\n",
              "        text-align: right;\n",
              "    }\n",
              "</style>\n",
              "<table border=\"1\" class=\"dataframe\">\n",
              "  <thead>\n",
              "    <tr style=\"text-align: right;\">\n",
              "      <th></th>\n",
              "      <th>Unnamed: 0</th>\n",
              "      <th>title</th>\n",
              "      <th>text</th>\n",
              "      <th>label</th>\n",
              "    </tr>\n",
              "  </thead>\n",
              "  <tbody>\n",
              "    <tr>\n",
              "      <th>5416</th>\n",
              "      <td>4345</td>\n",
              "      <td>Is Hillary Running for Bill’s Third Term?</td>\n",
              "      <td>When Hillary Clinton announces her candidacy o...</td>\n",
              "      <td>REAL</td>\n",
              "    </tr>\n",
              "    <tr>\n",
              "      <th>352</th>\n",
              "      <td>4930</td>\n",
              "      <td>Trump and advisers remain split on how far to ...</td>\n",
              "      <td>Ten days after he appointed new campaign leade...</td>\n",
              "      <td>REAL</td>\n",
              "    </tr>\n",
              "  </tbody>\n",
              "</table>\n",
              "</div>\n",
              "    <div class=\"colab-df-buttons\">\n",
              "\n",
              "  <div class=\"colab-df-container\">\n",
              "    <button class=\"colab-df-convert\" onclick=\"convertToInteractive('df-c36cf4cd-2d02-4c00-b857-ba9bac592f97')\"\n",
              "            title=\"Convert this dataframe to an interactive table.\"\n",
              "            style=\"display:none;\">\n",
              "\n",
              "  <svg xmlns=\"http://www.w3.org/2000/svg\" height=\"24px\" viewBox=\"0 -960 960 960\">\n",
              "    <path d=\"M120-120v-720h720v720H120Zm60-500h600v-160H180v160Zm220 220h160v-160H400v160Zm0 220h160v-160H400v160ZM180-400h160v-160H180v160Zm440 0h160v-160H620v160ZM180-180h160v-160H180v160Zm440 0h160v-160H620v160Z\"/>\n",
              "  </svg>\n",
              "    </button>\n",
              "\n",
              "  <style>\n",
              "    .colab-df-container {\n",
              "      display:flex;\n",
              "      gap: 12px;\n",
              "    }\n",
              "\n",
              "    .colab-df-convert {\n",
              "      background-color: #E8F0FE;\n",
              "      border: none;\n",
              "      border-radius: 50%;\n",
              "      cursor: pointer;\n",
              "      display: none;\n",
              "      fill: #1967D2;\n",
              "      height: 32px;\n",
              "      padding: 0 0 0 0;\n",
              "      width: 32px;\n",
              "    }\n",
              "\n",
              "    .colab-df-convert:hover {\n",
              "      background-color: #E2EBFA;\n",
              "      box-shadow: 0px 1px 2px rgba(60, 64, 67, 0.3), 0px 1px 3px 1px rgba(60, 64, 67, 0.15);\n",
              "      fill: #174EA6;\n",
              "    }\n",
              "\n",
              "    .colab-df-buttons div {\n",
              "      margin-bottom: 4px;\n",
              "    }\n",
              "\n",
              "    [theme=dark] .colab-df-convert {\n",
              "      background-color: #3B4455;\n",
              "      fill: #D2E3FC;\n",
              "    }\n",
              "\n",
              "    [theme=dark] .colab-df-convert:hover {\n",
              "      background-color: #434B5C;\n",
              "      box-shadow: 0px 1px 3px 1px rgba(0, 0, 0, 0.15);\n",
              "      filter: drop-shadow(0px 1px 2px rgba(0, 0, 0, 0.3));\n",
              "      fill: #FFFFFF;\n",
              "    }\n",
              "  </style>\n",
              "\n",
              "    <script>\n",
              "      const buttonEl =\n",
              "        document.querySelector('#df-c36cf4cd-2d02-4c00-b857-ba9bac592f97 button.colab-df-convert');\n",
              "      buttonEl.style.display =\n",
              "        google.colab.kernel.accessAllowed ? 'block' : 'none';\n",
              "\n",
              "      async function convertToInteractive(key) {\n",
              "        const element = document.querySelector('#df-c36cf4cd-2d02-4c00-b857-ba9bac592f97');\n",
              "        const dataTable =\n",
              "          await google.colab.kernel.invokeFunction('convertToInteractive',\n",
              "                                                    [key], {});\n",
              "        if (!dataTable) return;\n",
              "\n",
              "        const docLinkHtml = 'Like what you see? Visit the ' +\n",
              "          '<a target=\"_blank\" href=https://colab.research.google.com/notebooks/data_table.ipynb>data table notebook</a>'\n",
              "          + ' to learn more about interactive tables.';\n",
              "        element.innerHTML = '';\n",
              "        dataTable['output_type'] = 'display_data';\n",
              "        await google.colab.output.renderOutput(dataTable, element);\n",
              "        const docLink = document.createElement('div');\n",
              "        docLink.innerHTML = docLinkHtml;\n",
              "        element.appendChild(docLink);\n",
              "      }\n",
              "    </script>\n",
              "  </div>\n",
              "\n",
              "\n",
              "<div id=\"df-eb0954d6-6bb6-4b1f-9367-eea7571af3f3\">\n",
              "  <button class=\"colab-df-quickchart\" onclick=\"quickchart('df-eb0954d6-6bb6-4b1f-9367-eea7571af3f3')\"\n",
              "            title=\"Suggest charts\"\n",
              "            style=\"display:none;\">\n",
              "\n",
              "<svg xmlns=\"http://www.w3.org/2000/svg\" height=\"24px\"viewBox=\"0 0 24 24\"\n",
              "     width=\"24px\">\n",
              "    <g>\n",
              "        <path d=\"M19 3H5c-1.1 0-2 .9-2 2v14c0 1.1.9 2 2 2h14c1.1 0 2-.9 2-2V5c0-1.1-.9-2-2-2zM9 17H7v-7h2v7zm4 0h-2V7h2v10zm4 0h-2v-4h2v4z\"/>\n",
              "    </g>\n",
              "</svg>\n",
              "  </button>\n",
              "\n",
              "<style>\n",
              "  .colab-df-quickchart {\n",
              "      --bg-color: #E8F0FE;\n",
              "      --fill-color: #1967D2;\n",
              "      --hover-bg-color: #E2EBFA;\n",
              "      --hover-fill-color: #174EA6;\n",
              "      --disabled-fill-color: #AAA;\n",
              "      --disabled-bg-color: #DDD;\n",
              "  }\n",
              "\n",
              "  [theme=dark] .colab-df-quickchart {\n",
              "      --bg-color: #3B4455;\n",
              "      --fill-color: #D2E3FC;\n",
              "      --hover-bg-color: #434B5C;\n",
              "      --hover-fill-color: #FFFFFF;\n",
              "      --disabled-bg-color: #3B4455;\n",
              "      --disabled-fill-color: #666;\n",
              "  }\n",
              "\n",
              "  .colab-df-quickchart {\n",
              "    background-color: var(--bg-color);\n",
              "    border: none;\n",
              "    border-radius: 50%;\n",
              "    cursor: pointer;\n",
              "    display: none;\n",
              "    fill: var(--fill-color);\n",
              "    height: 32px;\n",
              "    padding: 0;\n",
              "    width: 32px;\n",
              "  }\n",
              "\n",
              "  .colab-df-quickchart:hover {\n",
              "    background-color: var(--hover-bg-color);\n",
              "    box-shadow: 0 1px 2px rgba(60, 64, 67, 0.3), 0 1px 3px 1px rgba(60, 64, 67, 0.15);\n",
              "    fill: var(--button-hover-fill-color);\n",
              "  }\n",
              "\n",
              "  .colab-df-quickchart-complete:disabled,\n",
              "  .colab-df-quickchart-complete:disabled:hover {\n",
              "    background-color: var(--disabled-bg-color);\n",
              "    fill: var(--disabled-fill-color);\n",
              "    box-shadow: none;\n",
              "  }\n",
              "\n",
              "  .colab-df-spinner {\n",
              "    border: 2px solid var(--fill-color);\n",
              "    border-color: transparent;\n",
              "    border-bottom-color: var(--fill-color);\n",
              "    animation:\n",
              "      spin 1s steps(1) infinite;\n",
              "  }\n",
              "\n",
              "  @keyframes spin {\n",
              "    0% {\n",
              "      border-color: transparent;\n",
              "      border-bottom-color: var(--fill-color);\n",
              "      border-left-color: var(--fill-color);\n",
              "    }\n",
              "    20% {\n",
              "      border-color: transparent;\n",
              "      border-left-color: var(--fill-color);\n",
              "      border-top-color: var(--fill-color);\n",
              "    }\n",
              "    30% {\n",
              "      border-color: transparent;\n",
              "      border-left-color: var(--fill-color);\n",
              "      border-top-color: var(--fill-color);\n",
              "      border-right-color: var(--fill-color);\n",
              "    }\n",
              "    40% {\n",
              "      border-color: transparent;\n",
              "      border-right-color: var(--fill-color);\n",
              "      border-top-color: var(--fill-color);\n",
              "    }\n",
              "    60% {\n",
              "      border-color: transparent;\n",
              "      border-right-color: var(--fill-color);\n",
              "    }\n",
              "    80% {\n",
              "      border-color: transparent;\n",
              "      border-right-color: var(--fill-color);\n",
              "      border-bottom-color: var(--fill-color);\n",
              "    }\n",
              "    90% {\n",
              "      border-color: transparent;\n",
              "      border-bottom-color: var(--fill-color);\n",
              "    }\n",
              "  }\n",
              "</style>\n",
              "\n",
              "  <script>\n",
              "    async function quickchart(key) {\n",
              "      const quickchartButtonEl =\n",
              "        document.querySelector('#' + key + ' button');\n",
              "      quickchartButtonEl.disabled = true;  // To prevent multiple clicks.\n",
              "      quickchartButtonEl.classList.add('colab-df-spinner');\n",
              "      try {\n",
              "        const charts = await google.colab.kernel.invokeFunction(\n",
              "            'suggestCharts', [key], {});\n",
              "      } catch (error) {\n",
              "        console.error('Error during call to suggestCharts:', error);\n",
              "      }\n",
              "      quickchartButtonEl.classList.remove('colab-df-spinner');\n",
              "      quickchartButtonEl.classList.add('colab-df-quickchart-complete');\n",
              "    }\n",
              "    (() => {\n",
              "      let quickchartButtonEl =\n",
              "        document.querySelector('#df-eb0954d6-6bb6-4b1f-9367-eea7571af3f3 button');\n",
              "      quickchartButtonEl.style.display =\n",
              "        google.colab.kernel.accessAllowed ? 'block' : 'none';\n",
              "    })();\n",
              "  </script>\n",
              "</div>\n",
              "\n",
              "    </div>\n",
              "  </div>\n"
            ],
            "application/vnd.google.colaboratory.intrinsic+json": {
              "type": "dataframe",
              "summary": "{\n  \"name\": \"df\",\n  \"rows\": 2,\n  \"fields\": [\n    {\n      \"column\": \"Unnamed: 0\",\n      \"properties\": {\n        \"dtype\": \"number\",\n        \"std\": 413,\n        \"min\": 4345,\n        \"max\": 4930,\n        \"num_unique_values\": 2,\n        \"samples\": [\n          4930,\n          4345\n        ],\n        \"semantic_type\": \"\",\n        \"description\": \"\"\n      }\n    },\n    {\n      \"column\": \"title\",\n      \"properties\": {\n        \"dtype\": \"string\",\n        \"num_unique_values\": 2,\n        \"samples\": [\n          \"Trump and advisers remain split on how far to move toward the middle\",\n          \"Is Hillary Running for Bill\\u2019s Third Term?\"\n        ],\n        \"semantic_type\": \"\",\n        \"description\": \"\"\n      }\n    },\n    {\n      \"column\": \"text\",\n      \"properties\": {\n        \"dtype\": \"string\",\n        \"num_unique_values\": 2,\n        \"samples\": [\n          \"Ten days after he appointed new campaign leadership, Donald Trump and many of his closest aides and allies remain divided on whether to adopt more mainstream stances or stick with the hard-line conservative positions at the core of his candidacy, according to people involved in the discussions.\\n\\nTrump has been flooded with conflicting advice about where to land, with the tensions vividly illustrated this week as the GOP nominee publicly wrestled with himself on the details of his signature issue: immigration.\\n\\nA particular flash point has been whether to forcibly deport an estimated 11 million illegal immigrants from the country, a move Trump long advocated but is now reconsidering.\\n\\n\\u201cHe has been listening to a wide range of opinions on that,\\u201d said former New York mayor Rudy Giuliani, who has been at Trump\\u2019s side nearly constantly over the past week. \\u201cAs you might imagine, there are different opinions on this, even in his campaign. In a very thoughtful way, he\\u2019s trying to figure what the right position is.\\u201d\\n\\n\\u201cBy the way,\\u201d Giuliani added, \\u201cthat\\u2019s what everybody criticized him for in the past: that he\\u2019s not able to do that. He actually is able to do that.\\u201d\\n\\nThe conversations in recent days have featured voices from a range of Republican views, all jockeying to tilt the businessman\\u2019s politics in their direction, according to those involved. Trump tends to echo the words of the last person with whom he spoke, making direct access to him even more valuable, the people said, speaking on the condition of anonymity to talk about internal campaign discussions.\\n\\nThose pushing Trump to soften his stances and tone \\u2014 and who have gained immense influence in recent days \\u2014 include Giuliani, New Jersey Gov. Chris Christie and former Fox News chief Roger Ailes, a longtime ally who has no formal role with the campaign but talks to the candidate frequently and attended a strategy session last weekend. At recent private fundraisers, many Republican donors have also urged Trump to adopt a different pitch and rethink his priorities.\\n\\n[Trump \\u2018softening\\u2019 on immigration? Many supporters don\\u2019t seem to mind]\\n\\nMeanwhile, Trump continues to discuss immigration policy with Sen. Jeff Sessions (Ala.), who is seen as the populist force behind much of his candidacy. While he has defended and encouraged Trump\\u2019s deliberations, Sessions is considered a balancing force against more centrist appeals. So is new campaign chief executive Stephen Bannon, the former head of Breitbart News, the hard-charging conservative website.\\n\\nTrump was joined on the trail this week by Giuliani and Sessions, along with Stephen Miller, a former aide to Sessions who has become a well-trusted confidant. His New York-based children continue to play an outsize role.\\n\\nBut any suggestion of change has alarmed some conservatives and ardent backers. Firebrand commentator Ann Coulter declared this week that it was \\u201ca mistake\\u201d for Trump to consider abandoning his support for mass deportations and said his tone \\u201csounds very consultant to me.\\u201d\\n\\nThe back-and-forth over immigration comes amid broader efforts by Trump to reach out to voters beyond the disaffected whites who compose his base, including events such as a roundtable Friday with Hispanic business leaders in Las Vegas. Trump also lashed out this week at his Democratic rival, Hillary Clinton, for accusing him of appealing to racist elements, repeatedly labeling her a \\u201cbigot\\u201d because he says her policies don\\u2019t help minorities.\\n\\nLast year, Trump cast illegal immigrants as being mostly violent criminals, and he rolled out an immigration plan that embraced ideas that had long dwelled at the fringes of the GOP: no longer granting citizenship to children born in the United States to illegal immigrants, constructing a massive wall along the border with Mexico and perhaps restricting some legal forms of immigration. In interviews, Trump added that he would form a \\u201cdeportation force\\u201d to remove the millions of immigrants living in the country illegally.\\n\\nBut Saturday, Trump asked a panel of Hispanic advisers for alternate ideas and made clear that he was willing to change on the issue. The next day, newly installed campaign manager Kellyanne Conway, who has advised GOP candidates for years on how to win over swing voters, said in a CNN interview that Trump\\u2019s position on creating a deportation force was \\u201cto be determined.\\u201d\\n\\nOver the next few days, Trump took a variety of positions that created a frenzy of confusion over where exactly he stands. On Tuesday, Trump said he was open to \\u201csoftening\\u201d the rules for the millions of immigrants who came to the country illegally but are living peaceful and prosperous lives, only to say Thursday that his position is \\u201chardening.\\u201d\\n\\nAt an immigration-focused town hall in Texas on Tuesday, which was later broadcast on Fox News, Trump repeatedly polled his audience on what he should do, allowing his internal conflicts to play out publicly.\\n\\n\\u201cCan we go through a process? Or do you think they have to get out?\\u201d he asked the audience. \\u201cTell me. I mean, I don\\u2019t know, you tell me.\\u201d\\n\\nTrump provided the crowd a sympathetic portrait of a theoretical illegal immigrant who has been in the country more than a decade, building a life with children and a stable job. He repeatedly asked if that sort of person should be allowed to stay or be kicked out of the country, getting results that were often difficult to measure. At one point, Trump asked who in the crowd wanted all illegal immigrants thrown out, even the law-abiding ones, and a man stood up and bellowed: \\u201cI do!\\u201d\\n\\nFox News\\u2019s Sean Hannity then asked Trump: \\u201cYou heard from the audience. What does your gut tell you you want to do?\\u201d\\n\\n\\u201cWell, look, this is like a poll, this is like a poll,\\u201d Trump said. \\u201cAnd I love the guy that stood up and said \\u2014 where is that guy? I love this guy. That\\u2019s my guy. I mean, I get it. I get it. And I understand what you\\u2019re saying. But this is sort of like a poll. And this is what I\\u2019m getting all over the country.\\u201d\\n\\nTrump\\u2019s often contradictory comments on deportations came during interviews with Fox News or CNN, not during his campaign rallies. For two weeks, Trump has been reading prepared remarks from a teleprompter, a machine he had long cursed. As the week progressed, his control slipped and he went off-script more often \\u2014 saying at a rally in Ohio on Monday that some urban areas are more dangerous than war zones and making a joke in Tampa on Wednesday about Clinton being medicated.\\n\\nThis week the campaign twice started to plan an event where Trump could give an immigration speech \\u2014 an opportunity for him to settle on a position and document it \\u2014 only to cancel without a clear explanation.\\n\\n[Inside Donald Trump\\u2019s new strategy to counter the view of many that he is racist]\\n\\nTrump\\u2019s comment about being open to \\u201csoftening\\u201d laws to help illegal immigrants came Tuesday, the same day Coulter released her new book, \\u201cIn Trump We Trust,\\u201d in which she writes that anything Trump does could be forgiven, \\u201cexcept change his immigration policies.\\u201d During an MSNBC interview that night, Coulter was obviously frustrated and threatened to cancel her book tour if the candidate clearly changed his position.\\n\\n\\u201cI think this is a mistake. I\\u2019ve thought he\\u2019s made other mistakes, and I\\u2019ve given him constructive criticism when I think he makes a mistake,\\u201d she said. \\u201cI think this is a mistake.\\u201d\\n\\nMSNBC\\u2019s Chris Matthews asked: \\u201cDoes he take your criticism?\\u201d\\n\\n\\u201cUm,\\u201d Coulter responded. \\u201cI haven\\u2019t had a lot, but yeah. No, he does listen to people. And I\\u2019m not advising him or anything, but I did write this magnificent book.\\u201d\\n\\nBy Wednesday, Coulter seemed confident again in Trump\\u2019s candidacy as she attended a book party in Washington and told Bloomberg News\\u2019s Joshua Green: \\u201cMy worship for him is like the people of North Korea worship their Dear Leader \\u2014 blind loyalty. Once he gave that Mexican rapist speech, I\\u2019ll walk across glass for him. That\\u2019s basically it. .\\u2009.\\u2009. I\\u2019ll criticize him, and I have, but it\\u2019s all minor stylistic stuff. We all want to shoot him at various times.\\u201d\\n\\nThursday, Trump took a different tone in an interview with CNN\\u2019s Anderson Cooper and said that he foresees \\u201ca lot of people being deported,\\u201d although he admitted such deportations could not all happen at once. Trump also doubled down on the notion that a majority of illegal immigrants are violent criminals who will be the first to go.\\n\\n\\u201cAnd there are probably millions of them, but certainly hundreds of thousands,\\u201d he said. \\u201cBig numbers. They\\u2019re out. They\\u2019re out.\\u201d\\n\\nAt one point, Cooper asked Trump, \\u201cSo if you haven\\u2019t committed a crime and you\\u2019ve been here for 15 years, and you have a family here, you have a job here, will you be deported?\\u201d\\n\\n\\u201cWe\\u2019re going to see what happens once we strengthen up our border,\\u201d Trump replied, describing that strength in detail. \\u201cAnd then we\\u2019re going to see what happens. But there is a very good chance the answer could be yes. We\\u2019re going to see what happens.\\u201d\",\n          \"When Hillary Clinton announces her candidacy on Sunday, the Republicans will no doubt redouble their efforts to make the case that a vote for Hillary is a vote for Barack Obama\\u2019s third term\\u2014and the GOP believes no one wants that, for Pete\\u2019s sake. Clinton\\u2019s campaign, by contrast, will almost certainly make a very different case: If they vote for her, Americans will be getting something far closer to Bill Clinton\\u2019s third term.\\n\\nTying her husband\\u2019s administration to her candidacy, Hillary Clinton has started to focus her language and her speeches on the continued struggles of the vast American middle class to adjust to a changed and still-changing economic landscape. That has ranged from addressing inequality of opportunity to less mobility to what she has called the \\u201coutrage that so many women are still paid less than men for the same work.\\u201d\\n\\nIn comments she has made over the past year or so, she has portrayed the 1990s as a template for sound economic policies\\u2014even when compared with the record of the Republican Party\\u2019s modern-day hero, Ronald Reagan. \\u201cIf you want a better future that is going to be reliant on making smart economic policies, compare my husband\\u2019s eight years with Ronald Reagan\\u2019s eight years\\u201423 million new jobs, more than seven million people lifted out of poverty,\\u201d Clinton told PBS last June. At another point last year she declared in a speech:\\u00a0 \\u201cThe 1990s taught us that even in the face of difficult long-term economic trends, it\\u2019s possible through smart policies and sound investments to enjoy broad-based growth and shared prosperity.\\u201d The eight years that followed her husband\\u2019s presidency, she said, showed how bad policy could turn budget surpluses into deficits and \\\"what happens when your only policy prescription is to cut taxes for the wealthy.\\\"\\n\\nGiven how widespread today\\u2019s economic concerns are, a new iteration of \\u201cIt\\u2019s still the economy, stupid\\u201d could be a sound foundation for a successful campaign\\u2014one that creates just enough distance on the economy between Obama and Clinton (who, after all, spent her entire tenure in the Obama administration working on foreign policy). Even so, Clinton faces multiple challenges separate from those of her own making: the implied comparison between the economy of the 1990s and the utterly fuzzy nature of our economic world today defies easy characterization. How she threads those issues will likely determine her the outcome of her second quest for the White House.\\n\\nTwenty-four years ago, Bill Clinton campaigned to fix an ailing economy that had seen massive layoffs in manufacturing in the recession of 1991. He assailed then President George H.W. Bush for ignoring the suffering of the middle class. His campaign moniker, \\u201cIt\\u2019s the economy, stupid,\\u201d helped propel him to victory over a sitting president.\\n\\nThe situation today is arguably better than it was in 1991-1992, with the unemployment rate averaging 6.8 percent in 1991 and 7.5 percent in 1992 versus 5.5 percent over the past months. The end of the Cold War, the disintegration of the Soviet Union and the resounding American sense of triumph in those years, as well as victory in the war to evict Iraq from Kuwait, also placed the United States in a far stronger position internationally, though that is more clear in retrospect than it was just then, when uncertainty about international chaos lent an air of unease.\\n\\nBut even though today looks statistically better than the early 1990s, the national mood is arguably worse, though mood gauges are the softest of soft statistics. Jobs numbers as well don\\u2019t adequately account for the much lower participation rate of American workers, with a smaller percentage of Americans working (nearly 67 percent then versus about 62 percent now). More important, and hence the reason for Hillary\\u2019s focus on the middle class, wages have barely budged since the early 1990s for the vast majority of workers.\\n\\nIn contrast to the early Republican message that government has impeded the progress of the average American, the Clinton campaign looks to stress how government in conjunction with individual initiatives and businesses can help boost opportunities. The subliminal (or maybe not so) implication is that is just what happened throughout the eight years the other Clinton was president.\\n\\nIt is undeniably true that between 1993 and 2000, the United States experienced a boom in both employment and economic growth. Sentiment as measured by Gallup polls about satisfaction with the economy also improved greatly, with just 24 percent expressing satisfaction in 1992 compared with 69 percent in 2000. The prevailing buzz was that of an economy firing on all proverbial cylinders, boosted by information technologies that were enhancing worker productivity and by a Wall Street and equity boom that saw tens of millions of Americans trading hot-dot stocks that promised not just wealth but connectivity, peace and happiness.\"\n        ],\n        \"semantic_type\": \"\",\n        \"description\": \"\"\n      }\n    },\n    {\n      \"column\": \"label\",\n      \"properties\": {\n        \"dtype\": \"string\",\n        \"num_unique_values\": 1,\n        \"samples\": [\n          \"REAL\"\n        ],\n        \"semantic_type\": \"\",\n        \"description\": \"\"\n      }\n    }\n  ]\n}"
            }
          },
          "metadata": {},
          "execution_count": 6
        }
      ]
    },
    {
      "cell_type": "code",
      "source": [
        "df.info()"
      ],
      "metadata": {
        "colab": {
          "base_uri": "https://localhost:8080/"
        },
        "id": "66nvCU5z-QM9",
        "outputId": "350093f0-90d7-4492-a0af-2180e742d909"
      },
      "execution_count": null,
      "outputs": [
        {
          "output_type": "stream",
          "name": "stdout",
          "text": [
            "<class 'pandas.core.frame.DataFrame'>\n",
            "RangeIndex: 6335 entries, 0 to 6334\n",
            "Data columns (total 4 columns):\n",
            " #   Column      Non-Null Count  Dtype \n",
            "---  ------      --------------  ----- \n",
            " 0   Unnamed: 0  6335 non-null   int64 \n",
            " 1   title       6335 non-null   object\n",
            " 2   text        6335 non-null   object\n",
            " 3   label       6335 non-null   object\n",
            "dtypes: int64(1), object(3)\n",
            "memory usage: 198.1+ KB\n"
          ]
        }
      ]
    },
    {
      "cell_type": "markdown",
      "source": [
        "## Removing 'Unnamed: 0' column"
      ],
      "metadata": {
        "id": "l6NhRqKk_AIQ"
      }
    },
    {
      "cell_type": "code",
      "source": [
        "df.drop(columns='Unnamed: 0',inplace=True)"
      ],
      "metadata": {
        "id": "WWWI53bc-XBB"
      },
      "execution_count": null,
      "outputs": []
    },
    {
      "cell_type": "markdown",
      "source": [
        "## Changing datatypes"
      ],
      "metadata": {
        "id": "NYzshwMI_K5R"
      }
    },
    {
      "cell_type": "code",
      "source": [
        "df['label'].value_counts()"
      ],
      "metadata": {
        "colab": {
          "base_uri": "https://localhost:8080/"
        },
        "id": "c7BImefC_U9P",
        "outputId": "23116737-c41d-411a-fd37-dc10350f4d55"
      },
      "execution_count": null,
      "outputs": [
        {
          "output_type": "execute_result",
          "data": {
            "text/plain": [
              "label\n",
              "REAL    3171\n",
              "FAKE    3164\n",
              "Name: count, dtype: int64"
            ]
          },
          "metadata": {},
          "execution_count": 9
        }
      ]
    },
    {
      "cell_type": "code",
      "source": [
        "df['label']=df['label'].astype('category')"
      ],
      "metadata": {
        "id": "E9oBhYRH-axG"
      },
      "execution_count": null,
      "outputs": []
    },
    {
      "cell_type": "markdown",
      "source": [
        "##Checking for Null values"
      ],
      "metadata": {
        "id": "8YNpiLFb_g7G"
      }
    },
    {
      "cell_type": "code",
      "source": [
        "df.isnull().sum()"
      ],
      "metadata": {
        "colab": {
          "base_uri": "https://localhost:8080/"
        },
        "id": "NvNYrmeC_Q6r",
        "outputId": "e6caf5e1-8218-42f1-f398-2f76d522ea79"
      },
      "execution_count": null,
      "outputs": [
        {
          "output_type": "execute_result",
          "data": {
            "text/plain": [
              "title    0\n",
              "text     0\n",
              "label    0\n",
              "dtype: int64"
            ]
          },
          "metadata": {},
          "execution_count": 11
        }
      ]
    },
    {
      "cell_type": "markdown",
      "source": [
        "## Checking for duplicate values"
      ],
      "metadata": {
        "id": "pk9F7H10EB1Z"
      }
    },
    {
      "cell_type": "code",
      "source": [
        "df.duplicated().sum()"
      ],
      "metadata": {
        "colab": {
          "base_uri": "https://localhost:8080/"
        },
        "id": "Memm5MOrD-nA",
        "outputId": "9b430635-7ea2-4cec-ed44-32ce62b6c148"
      },
      "execution_count": null,
      "outputs": [
        {
          "output_type": "execute_result",
          "data": {
            "text/plain": [
              "29"
            ]
          },
          "metadata": {},
          "execution_count": 12
        }
      ]
    },
    {
      "cell_type": "markdown",
      "source": [
        "## Removing duplicates value"
      ],
      "metadata": {
        "id": "dKQVfnrBELOM"
      }
    },
    {
      "cell_type": "code",
      "source": [
        "df.drop_duplicates(inplace=True)"
      ],
      "metadata": {
        "id": "4ceFq_PoEHTG"
      },
      "execution_count": null,
      "outputs": []
    },
    {
      "cell_type": "markdown",
      "source": [
        "## Encoding Label column\n",
        "0-Fake\n",
        "1-Real"
      ],
      "metadata": {
        "id": "VdYJ7_9p_sxz"
      }
    },
    {
      "cell_type": "code",
      "source": [
        "from sklearn.preprocessing import LabelEncoder\n",
        "le=LabelEncoder()\n",
        "df['label']=le.fit_transform(df['label'])\n",
        "df['label'].head(5)"
      ],
      "metadata": {
        "colab": {
          "base_uri": "https://localhost:8080/"
        },
        "id": "hXOBMNc9_jzn",
        "outputId": "f059e97a-c13c-4495-ae83-1011f0ea7d96"
      },
      "execution_count": null,
      "outputs": [
        {
          "output_type": "execute_result",
          "data": {
            "text/plain": [
              "0    0\n",
              "1    0\n",
              "2    1\n",
              "3    0\n",
              "4    1\n",
              "Name: label, dtype: int64"
            ]
          },
          "metadata": {},
          "execution_count": 14
        }
      ]
    },
    {
      "cell_type": "code",
      "source": [
        "le.classes_"
      ],
      "metadata": {
        "colab": {
          "base_uri": "https://localhost:8080/"
        },
        "id": "ysp8FGkpAKRT",
        "outputId": "420d6aa4-bc1e-43fa-e5fd-7783533d2b6c"
      },
      "execution_count": null,
      "outputs": [
        {
          "output_type": "execute_result",
          "data": {
            "text/plain": [
              "array(['FAKE', 'REAL'], dtype=object)"
            ]
          },
          "metadata": {},
          "execution_count": 15
        }
      ]
    },
    {
      "cell_type": "code",
      "source": [
        "list(le.inverse_transform([0,1]))"
      ],
      "metadata": {
        "colab": {
          "base_uri": "https://localhost:8080/"
        },
        "id": "NWvXZdqsASZE",
        "outputId": "50157c86-9bd0-4184-8553-d7a7ddef62eb"
      },
      "execution_count": null,
      "outputs": [
        {
          "output_type": "execute_result",
          "data": {
            "text/plain": [
              "['FAKE', 'REAL']"
            ]
          },
          "metadata": {},
          "execution_count": 16
        }
      ]
    },
    {
      "cell_type": "markdown",
      "source": [
        "## Data Preprocessing\n",
        "* Lower case\n",
        "* Tokenization\n",
        "* Removing special characters\n",
        "* Removing stop words and punctuation\n",
        "* Stemming"
      ],
      "metadata": {
        "id": "pjHZh15dEx1g"
      }
    },
    {
      "cell_type": "code",
      "source": [
        "!pip install nltk"
      ],
      "metadata": {
        "colab": {
          "base_uri": "https://localhost:8080/"
        },
        "id": "DsxmLPEZG6AW",
        "outputId": "5e27e52c-4049-4dd7-d5bc-c1f010025add"
      },
      "execution_count": null,
      "outputs": [
        {
          "output_type": "stream",
          "name": "stdout",
          "text": [
            "Requirement already satisfied: nltk in /usr/local/lib/python3.10/dist-packages (3.8.1)\n",
            "Requirement already satisfied: click in /usr/local/lib/python3.10/dist-packages (from nltk) (8.1.7)\n",
            "Requirement already satisfied: joblib in /usr/local/lib/python3.10/dist-packages (from nltk) (1.4.2)\n",
            "Requirement already satisfied: regex>=2021.8.3 in /usr/local/lib/python3.10/dist-packages (from nltk) (2024.5.15)\n",
            "Requirement already satisfied: tqdm in /usr/local/lib/python3.10/dist-packages (from nltk) (4.66.4)\n"
          ]
        }
      ]
    },
    {
      "cell_type": "code",
      "source": [
        "import nltk\n",
        "import string\n",
        "from nltk.corpus import stopwords\n",
        "from nltk.stem.porter import PorterStemmer\n",
        "ps = PorterStemmer()\n",
        "nltk.download('punkt')\n",
        "nltk.download('stopwords')"
      ],
      "metadata": {
        "colab": {
          "base_uri": "https://localhost:8080/"
        },
        "id": "fp1vJmfiG-xB",
        "outputId": "5b172d5f-3219-4fec-cf83-ce21ac9e704d"
      },
      "execution_count": null,
      "outputs": [
        {
          "output_type": "stream",
          "name": "stderr",
          "text": [
            "[nltk_data] Downloading package punkt to /root/nltk_data...\n",
            "[nltk_data]   Unzipping tokenizers/punkt.zip.\n",
            "[nltk_data] Downloading package stopwords to /root/nltk_data...\n",
            "[nltk_data]   Unzipping corpora/stopwords.zip.\n"
          ]
        },
        {
          "output_type": "execute_result",
          "data": {
            "text/plain": [
              "True"
            ]
          },
          "metadata": {},
          "execution_count": 18
        }
      ]
    },
    {
      "cell_type": "code",
      "source": [
        "def transform_text(text):\n",
        "    text = text.lower()\n",
        "    text = nltk.word_tokenize(text)\n",
        "\n",
        "    y = []\n",
        "    for i in text:\n",
        "        if i.isalnum():\n",
        "            y.append(i)\n",
        "\n",
        "    text = y[:]\n",
        "    y.clear()\n",
        "\n",
        "    for i in text:\n",
        "        if i not in stopwords.words('english') and i not in string.punctuation:\n",
        "            y.append(i)\n",
        "\n",
        "    text = y[:]\n",
        "    y.clear()\n",
        "\n",
        "    for i in text:\n",
        "        y.append(ps.stem(i))\n",
        "    return \" \".join(y)"
      ],
      "metadata": {
        "id": "pn_hv4X4EwUV"
      },
      "execution_count": null,
      "outputs": []
    },
    {
      "cell_type": "code",
      "source": [
        "df['text'][0]"
      ],
      "metadata": {
        "colab": {
          "base_uri": "https://localhost:8080/",
          "height": 174
        },
        "id": "e4TJslwqOhDE",
        "outputId": "23b787b1-c96d-480a-84c7-3dc096419bc9"
      },
      "execution_count": null,
      "outputs": [
        {
          "output_type": "execute_result",
          "data": {
            "text/plain": [
              "'Daniel Greenfield, a Shillman Journalism Fellow at the Freedom Center, is a New York writer focusing on radical Islam. \\nIn the final stretch of the election, Hillary Rodham Clinton has gone to war with the FBI. \\nThe word “unprecedented” has been thrown around so often this election that it ought to be retired. But it’s still unprecedented for the nominee of a major political party to go war with the FBI. \\nBut that’s exactly what Hillary and her people have done. Coma patients just waking up now and watching an hour of CNN from their hospital beds would assume that FBI Director James Comey is Hillary’s opponent in this election. \\nThe FBI is under attack by everyone from Obama to CNN. Hillary’s people have circulated a letter attacking Comey. There are currently more media hit pieces lambasting him than targeting Trump. It wouldn’t be too surprising if the Clintons or their allies were to start running attack ads against the FBI. \\nThe FBI’s leadership is being warned that the entire left-wing establishment will form a lynch mob if they continue going after Hillary. And the FBI’s credibility is being attacked by the media and the Democrats to preemptively head off the results of the investigation of the Clinton Foundation and Hillary Clinton. \\nThe covert struggle between FBI agents and Obama’s DOJ people has gone explosively public. \\nThe New York Times has compared Comey to J. Edgar Hoover. Its bizarre headline, “James Comey Role Recalls Hoover’s FBI, Fairly or Not” practically admits up front that it’s spouting nonsense. The Boston Globe has published a column calling for Comey’s resignation. Not to be outdone, Time has an editorial claiming that the scandal is really an attack on all women. \\nJames Carville appeared on MSNBC to remind everyone that he was still alive and insane. He accused Comey of coordinating with House Republicans and the KGB. And you thought the “vast right wing conspiracy” was a stretch. \\nCountless media stories charge Comey with violating procedure. Do you know what’s a procedural violation? Emailing classified information stored on your bathroom server. \\nSenator Harry Reid has sent Comey a letter accusing him of violating the Hatch Act. The Hatch Act is a nice idea that has as much relevance in the age of Obama as the Tenth Amendment. But the cable news spectrum quickly filled with media hacks glancing at the Wikipedia article on the Hatch Act under the table while accusing the FBI director of one of the most awkward conspiracies against Hillary ever. \\nIf James Comey is really out to hurt Hillary, he picked one hell of a strange way to do it. \\nNot too long ago Democrats were breathing a sigh of relief when he gave Hillary Clinton a pass in a prominent public statement. If he really were out to elect Trump by keeping the email scandal going, why did he trash the investigation? Was he on the payroll of House Republicans and the KGB back then and playing it coy or was it a sudden development where Vladimir Putin and Paul Ryan talked him into taking a look at Anthony Weiner’s computer? \\nEither Comey is the most cunning FBI director that ever lived or he’s just awkwardly trying to navigate a political mess that has trapped him between a DOJ leadership whose political futures are tied to Hillary’s victory and his own bureau whose apolitical agents just want to be allowed to do their jobs. \\nThe only truly mysterious thing is why Hillary and her associates decided to go to war with a respected Federal agency. Most Americans like the FBI while Hillary Clinton enjoys a 60% unfavorable rating. \\nAnd it’s an interesting question. \\nHillary’s old strategy was to lie and deny that the FBI even had a criminal investigation underway. Instead her associates insisted that it was a security review. The FBI corrected her and she shrugged it off. But the old breezy denial approach has given way to a savage assault on the FBI. \\nPretending that nothing was wrong was a bad strategy, but it was a better one that picking a fight with the FBI while lunatic Clinton associates try to claim that the FBI is really the KGB. \\nThere are two possible explanations. \\nHillary Clinton might be arrogant enough to lash out at the FBI now that she believes that victory is near. The same kind of hubris that led her to plan her victory fireworks display could lead her to declare a war on the FBI for irritating her during the final miles of her campaign. \\nBut the other explanation is that her people panicked. \\nGoing to war with the FBI is not the behavior of a smart and focused presidential campaign. It’s an act of desperation. When a presidential candidate decides that her only option is to try and destroy the credibility of the FBI, that’s not hubris, it’s fear of what the FBI might be about to reveal about her. \\nDuring the original FBI investigation, Hillary Clinton was confident that she could ride it out. And she had good reason for believing that. But that Hillary Clinton is gone. In her place is a paranoid wreck. Within a short space of time the “positive” Clinton campaign promising to unite the country has been replaced by a desperate and flailing operation that has focused all its energy on fighting the FBI. \\nThere’s only one reason for such bizarre behavior. \\nThe Clinton campaign has decided that an FBI investigation of the latest batch of emails poses a threat to its survival. And so it’s gone all in on fighting the FBI. It’s an unprecedented step born of fear. It’s hard to know whether that fear is justified. But the existence of that fear already tells us a whole lot. \\nClinton loyalists rigged the old investigation. They knew the outcome ahead of time as well as they knew the debate questions. Now suddenly they are no longer in control. And they are afraid. \\nYou can smell the fear. \\nThe FBI has wiretaps from the investigation of the Clinton Foundation. It’s finding new emails all the time. And Clintonworld panicked. The spinmeisters of Clintonworld have claimed that the email scandal is just so much smoke without fire. All that’s here is the appearance of impropriety without any of the substance. But this isn’t how you react to smoke. It’s how you respond to a fire. \\nThe misguided assault on the FBI tells us that Hillary Clinton and her allies are afraid of a revelation bigger than the fundamental illegality of her email setup. The email setup was a preemptive cover up. The Clinton campaign has panicked badly out of the belief, right or wrong, that whatever crime the illegal setup was meant to cover up is at risk of being exposed. \\nThe Clintons have weathered countless scandals over the years. Whatever they are protecting this time around is bigger than the usual corruption, bribery, sexual assaults and abuses of power that have followed them around throughout the years. This is bigger and more damaging than any of the allegations that have already come out. And they don’t want FBI investigators anywhere near it. \\nThe campaign against Comey is pure intimidation. It’s also a warning. Any senior FBI people who value their careers are being warned to stay away. The Democrats are closing ranks around their nominee against the FBI. It’s an ugly and unprecedented scene. It may also be their last stand. \\nHillary Clinton has awkwardly wound her way through numerous scandals in just this election cycle. But she’s never shown fear or desperation before. Now that has changed. Whatever she is afraid of, it lies buried in her emails with Huma Abedin. And it can bring her down like nothing else has.  '"
            ],
            "application/vnd.google.colaboratory.intrinsic+json": {
              "type": "string"
            }
          },
          "metadata": {},
          "execution_count": 20
        }
      ]
    },
    {
      "cell_type": "code",
      "source": [
        "transform_text(df['text'][0])"
      ],
      "metadata": {
        "colab": {
          "base_uri": "https://localhost:8080/",
          "height": 174
        },
        "id": "pgNzk-kJOrhU",
        "outputId": "ef3ca9d2-64b5-4d57-e03a-d4f68f7fb29f"
      },
      "execution_count": null,
      "outputs": [
        {
          "output_type": "execute_result",
          "data": {
            "text/plain": [
              "'daniel greenfield shillman journal fellow freedom center new york writer focus radic islam final stretch elect hillari rodham clinton gone war fbi word unpreced thrown around often elect ought retir still unpreced nomine major polit parti go war fbi exactli hillari peopl done coma patient wake watch hour cnn hospit bed would assum fbi director jame comey hillari oppon elect fbi attack everyon obama cnn hillari peopl circul letter attack comey current media hit piec lambast target trump surpris clinton alli start run attack ad fbi fbi leadership warn entir establish form lynch mob continu go hillari fbi credibl attack media democrat preemptiv head result investig clinton foundat hillari clinton covert struggl fbi agent obama doj peopl gone explos public new york time compar comey edgar hoover bizarr headlin jame comey role recal hoover fbi fairli practic admit front spout nonsens boston globe publish column call comey resign outdon time editori claim scandal realli attack women jame carvil appear msnbc remind everyon still aliv insan accus comey coordin hous republican kgb thought vast right wing conspiraci stretch countless media stori charg comey violat procedur know procedur violat email classifi inform store bathroom server senat harri reid sent comey letter accus violat hatch act hatch act nice idea much relev age obama tenth amend cabl news spectrum quickli fill media hack glanc wikipedia articl hatch act tabl accus fbi director one awkward conspiraci hillari ever jame comey realli hurt hillari pick one hell strang way long ago democrat breath sigh relief gave hillari clinton pass promin public statement realli elect trump keep email scandal go trash investig payrol hous republican kgb back play coy sudden develop vladimir putin paul ryan talk take look anthoni weiner comput either comey cun fbi director ever live awkwardli tri navig polit mess trap doj leadership whose polit futur tie hillari victori bureau whose apolit agent want allow job truli mysteri thing hillari associ decid go war respect feder agenc american like fbi hillari clinton enjoy 60 unfavor rate interest question hillari old strategi lie deni fbi even crimin investig underway instead associ insist secur review fbi correct shrug old breezi denial approach given way savag assault fbi pretend noth wrong bad strategi better one pick fight fbi lunat clinton associ tri claim fbi realli kgb two possibl explan hillari clinton might arrog enough lash fbi believ victori near kind hubri led plan victori firework display could lead declar war fbi irrit final mile campaign explan peopl panick go war fbi behavior smart focus presidenti campaign act desper presidenti candid decid option tri destroy credibl fbi hubri fear fbi might reveal origin fbi investig hillari clinton confid could ride good reason believ hillari clinton gone place paranoid wreck within short space time posit clinton campaign promis unit countri replac desper flail oper focus energi fight fbi one reason bizarr behavior clinton campaign decid fbi investig latest batch email pose threat surviv gone fight fbi unpreced step born fear hard know whether fear justifi exist fear alreadi tell us whole lot clinton loyalist rig old investig knew outcom ahead time well knew debat question suddenli longer control afraid smell fear fbi wiretap investig clinton foundat find new email time clintonworld panick spinmeist clintonworld claim email scandal much smoke without fire appear improprieti without substanc react smoke respond fire misguid assault fbi tell us hillari clinton alli afraid revel bigger fundament illeg email setup email setup preemptiv cover clinton campaign panick badli belief right wrong whatev crime illeg setup meant cover risk expos clinton weather countless scandal year whatev protect time around bigger usual corrupt briberi sexual assault abus power follow around throughout year bigger damag alleg alreadi come want fbi investig anywher near campaign comey pure intimid also warn senior fbi peopl valu career warn stay away democrat close rank around nomine fbi ugli unpreced scene may also last stand hillari clinton awkwardli wound way numer scandal elect cycl never shown fear desper chang whatev afraid lie buri email huma abedin bring like noth els'"
            ],
            "application/vnd.google.colaboratory.intrinsic+json": {
              "type": "string"
            }
          },
          "metadata": {},
          "execution_count": 21
        }
      ]
    },
    {
      "cell_type": "code",
      "source": [
        "df['transformed_text'] = df['text'].apply(transform_text)"
      ],
      "metadata": {
        "id": "XLKLFpRTQlvW"
      },
      "execution_count": null,
      "outputs": []
    },
    {
      "cell_type": "markdown",
      "source": [
        "## Splitting into train and test"
      ],
      "metadata": {
        "id": "gsF6iram5l8V"
      }
    },
    {
      "cell_type": "code",
      "source": [
        "from sklearn.model_selection import train_test_split\n",
        "X_train,X_test,y_train,y_test=train_test_split(df['transformed_text'],df['label'],test_size=0.2,random_state=42)"
      ],
      "metadata": {
        "id": "qYEsEMGtA2hG"
      },
      "execution_count": null,
      "outputs": []
    },
    {
      "cell_type": "code",
      "source": [
        "X_train.shape,X_test.shape,y_train.shape,y_test.shape"
      ],
      "metadata": {
        "colab": {
          "base_uri": "https://localhost:8080/"
        },
        "id": "vj1cetdcA-5v",
        "outputId": "0fae63b9-c857-4d25-8dd7-34b10d571cc1"
      },
      "execution_count": null,
      "outputs": [
        {
          "output_type": "execute_result",
          "data": {
            "text/plain": [
              "((5044,), (1262,), (5044,), (1262,))"
            ]
          },
          "metadata": {},
          "execution_count": 24
        }
      ]
    },
    {
      "cell_type": "markdown",
      "source": [
        "## Converting words to vectors"
      ],
      "metadata": {
        "id": "xqREBdjQXFSp"
      }
    },
    {
      "cell_type": "code",
      "source": [
        "from sklearn.feature_extraction.text import TfidfVectorizer\n",
        "tfidf = TfidfVectorizer(stop_words = 'english', max_df = 0.7)\n",
        "tfidf_train = tfidf.fit_transform(X_train)\n",
        "tfidf_test = tfidf.transform(X_test)"
      ],
      "metadata": {
        "id": "X2VlsjyuBCBi"
      },
      "execution_count": null,
      "outputs": []
    },
    {
      "cell_type": "code",
      "source": [
        "len(tfidf_train.toarray()[0])"
      ],
      "metadata": {
        "colab": {
          "base_uri": "https://localhost:8080/"
        },
        "id": "l58nKyAOBiH4",
        "outputId": "ac5277ca-6372-42bb-fd6b-8e1535c8efa6"
      },
      "execution_count": null,
      "outputs": [
        {
          "output_type": "execute_result",
          "data": {
            "text/plain": [
              "39087"
            ]
          },
          "metadata": {},
          "execution_count": 26
        }
      ]
    },
    {
      "cell_type": "markdown",
      "source": [
        "## Trying different models"
      ],
      "metadata": {
        "id": "ctt_bglWntyO"
      }
    },
    {
      "cell_type": "code",
      "source": [
        "from sklearn.linear_model import LogisticRegression\n",
        "from sklearn.linear_model import PassiveAggressiveClassifier\n",
        "from sklearn.svm import SVC\n",
        "from sklearn.naive_bayes import MultinomialNB\n",
        "from sklearn.tree import DecisionTreeClassifier\n",
        "from sklearn.neighbors import KNeighborsClassifier\n",
        "from sklearn.ensemble import RandomForestClassifier,AdaBoostClassifier,BaggingClassifier,ExtraTreesClassifier,GradientBoostingClassifier\n",
        "from xgboost import XGBClassifier\n",
        "from sklearn.metrics import accuracy_score,confusion_matrix,precision_score,ConfusionMatrixDisplay"
      ],
      "metadata": {
        "id": "6dE0ZVu0TBYg"
      },
      "execution_count": null,
      "outputs": []
    },
    {
      "cell_type": "code",
      "source": [
        "svc = SVC(kernel='sigmoid', gamma=1.0)\n",
        "pac = PassiveAggressiveClassifier()\n",
        "knc = KNeighborsClassifier()\n",
        "mnb = MultinomialNB()\n",
        "dtc = DecisionTreeClassifier(max_depth=5)\n",
        "lrc = LogisticRegression(solver='liblinear', penalty='l1')\n",
        "rfc = RandomForestClassifier(n_estimators=50, random_state=2)\n",
        "abc = AdaBoostClassifier(n_estimators=50, random_state=2)\n",
        "bc = BaggingClassifier(n_estimators=50, random_state=2)\n",
        "etc = ExtraTreesClassifier(n_estimators=50, random_state=2)\n",
        "gbdt = GradientBoostingClassifier(n_estimators=50,random_state=2)\n",
        "xgb = XGBClassifier(n_estimators=50,random_state=2)"
      ],
      "metadata": {
        "id": "lm0DfdzbTJ4l"
      },
      "execution_count": null,
      "outputs": []
    },
    {
      "cell_type": "code",
      "source": [
        "clfs = {\n",
        "    'SVC' : svc,\n",
        "    'PAC':pac,\n",
        "    'KN' : knc,\n",
        "    'NB': mnb,\n",
        "    'DT': dtc,\n",
        "    'LR': lrc,\n",
        "    'RF': rfc,\n",
        "    'AdaBoost': abc,\n",
        "    'BgC': bc,\n",
        "    'ETC': etc,\n",
        "    'GBDT':gbdt,\n",
        "    'xgb':xgb\n",
        "}"
      ],
      "metadata": {
        "id": "ZQMIU2rhTRZa"
      },
      "execution_count": null,
      "outputs": []
    },
    {
      "cell_type": "code",
      "source": [
        "def train_classifier(clf,X_train,y_train,X_test,y_test):\n",
        "    clf.fit(tfidf_train,y_train)\n",
        "    y_pred = clf.predict(tfidf_test)\n",
        "    accuracy = accuracy_score(y_test,y_pred)\n",
        "    precision = precision_score(y_test,y_pred)\n",
        "\n",
        "    return accuracy,precision"
      ],
      "metadata": {
        "id": "0-w5uY1uUsPs"
      },
      "execution_count": null,
      "outputs": []
    },
    {
      "cell_type": "code",
      "source": [
        "accuracy_scores = []\n",
        "precision_scores = []\n",
        "\n",
        "for name,clf in clfs.items():\n",
        "\n",
        "    current_accuracy,current_precision = train_classifier(clf, tfidf_train,y_train,tfidf_test,y_test)\n",
        "    current_accuracy=round(current_accuracy,4)*100\n",
        "    current_precision=round(current_precision,4)*100\n",
        "    print(\"For \",name)\n",
        "    print(\"Accuracy - \",current_accuracy)\n",
        "    print(\"Precision - \",current_precision)\n",
        "\n",
        "    accuracy_scores.append(current_accuracy)\n",
        "    precision_scores.append(current_precision)"
      ],
      "metadata": {
        "colab": {
          "base_uri": "https://localhost:8080/"
        },
        "id": "Ns0PlviQUtD9",
        "outputId": "22a16ead-4f09-497e-df8c-90b06982848f"
      },
      "execution_count": null,
      "outputs": [
        {
          "output_type": "stream",
          "name": "stdout",
          "text": [
            "For  SVC\n",
            "Accuracy -  92.86999999999999\n",
            "Precision -  93.96\n",
            "For  PAC\n",
            "Accuracy -  93.03\n",
            "Precision -  93.05\n",
            "For  KN\n",
            "Accuracy -  59.35\n",
            "Precision -  98.66\n",
            "For  NB\n",
            "Accuracy -  87.24\n",
            "Precision -  82.06\n",
            "For  DT\n",
            "Accuracy -  81.14\n",
            "Precision -  85.71\n",
            "For  LR\n",
            "Accuracy -  89.94\n",
            "Precision -  92.21000000000001\n",
            "For  RF\n",
            "Accuracy -  91.2\n",
            "Precision -  92.53\n",
            "For  AdaBoost\n",
            "Accuracy -  87.08\n",
            "Precision -  88.85\n",
            "For  BgC\n",
            "Accuracy -  88.27000000000001\n",
            "Precision -  89.23\n",
            "For  ETC\n",
            "Accuracy -  90.81\n",
            "Precision -  91.44\n",
            "For  GBDT\n",
            "Accuracy -  87.4\n",
            "Precision -  90.44\n",
            "For  xgb\n",
            "Accuracy -  91.05\n",
            "Precision -  92.91\n"
          ]
        }
      ]
    },
    {
      "cell_type": "code",
      "source": [
        "performance_df = pd.DataFrame({'Algorithm':clfs.keys(),'Accuracy':accuracy_scores,'Precision':precision_scores}).sort_values('Precision',ascending=False)"
      ],
      "metadata": {
        "id": "K0df__ejU51S"
      },
      "execution_count": null,
      "outputs": []
    },
    {
      "cell_type": "code",
      "source": [
        "performance_df"
      ],
      "metadata": {
        "id": "x6MFp9BmdORT",
        "colab": {
          "base_uri": "https://localhost:8080/",
          "height": 426
        },
        "outputId": "68773e8a-13aa-4594-9fea-f821ca6e4c6c"
      },
      "execution_count": null,
      "outputs": [
        {
          "output_type": "execute_result",
          "data": {
            "text/plain": [
              "   Algorithm  Accuracy  Precision\n",
              "2         KN     59.35      98.66\n",
              "0        SVC     92.87      93.96\n",
              "1        PAC     93.03      93.05\n",
              "11       xgb     91.05      92.91\n",
              "6         RF     91.20      92.53\n",
              "5         LR     89.94      92.21\n",
              "9        ETC     90.81      91.44\n",
              "10      GBDT     87.40      90.44\n",
              "8        BgC     88.27      89.23\n",
              "7   AdaBoost     87.08      88.85\n",
              "4         DT     81.14      85.71\n",
              "3         NB     87.24      82.06"
            ],
            "text/html": [
              "\n",
              "  <div id=\"df-de884aa0-7ce3-44b7-bc99-5fcb4d4737ad\" class=\"colab-df-container\">\n",
              "    <div>\n",
              "<style scoped>\n",
              "    .dataframe tbody tr th:only-of-type {\n",
              "        vertical-align: middle;\n",
              "    }\n",
              "\n",
              "    .dataframe tbody tr th {\n",
              "        vertical-align: top;\n",
              "    }\n",
              "\n",
              "    .dataframe thead th {\n",
              "        text-align: right;\n",
              "    }\n",
              "</style>\n",
              "<table border=\"1\" class=\"dataframe\">\n",
              "  <thead>\n",
              "    <tr style=\"text-align: right;\">\n",
              "      <th></th>\n",
              "      <th>Algorithm</th>\n",
              "      <th>Accuracy</th>\n",
              "      <th>Precision</th>\n",
              "    </tr>\n",
              "  </thead>\n",
              "  <tbody>\n",
              "    <tr>\n",
              "      <th>2</th>\n",
              "      <td>KN</td>\n",
              "      <td>59.35</td>\n",
              "      <td>98.66</td>\n",
              "    </tr>\n",
              "    <tr>\n",
              "      <th>0</th>\n",
              "      <td>SVC</td>\n",
              "      <td>92.87</td>\n",
              "      <td>93.96</td>\n",
              "    </tr>\n",
              "    <tr>\n",
              "      <th>1</th>\n",
              "      <td>PAC</td>\n",
              "      <td>93.03</td>\n",
              "      <td>93.05</td>\n",
              "    </tr>\n",
              "    <tr>\n",
              "      <th>11</th>\n",
              "      <td>xgb</td>\n",
              "      <td>91.05</td>\n",
              "      <td>92.91</td>\n",
              "    </tr>\n",
              "    <tr>\n",
              "      <th>6</th>\n",
              "      <td>RF</td>\n",
              "      <td>91.20</td>\n",
              "      <td>92.53</td>\n",
              "    </tr>\n",
              "    <tr>\n",
              "      <th>5</th>\n",
              "      <td>LR</td>\n",
              "      <td>89.94</td>\n",
              "      <td>92.21</td>\n",
              "    </tr>\n",
              "    <tr>\n",
              "      <th>9</th>\n",
              "      <td>ETC</td>\n",
              "      <td>90.81</td>\n",
              "      <td>91.44</td>\n",
              "    </tr>\n",
              "    <tr>\n",
              "      <th>10</th>\n",
              "      <td>GBDT</td>\n",
              "      <td>87.40</td>\n",
              "      <td>90.44</td>\n",
              "    </tr>\n",
              "    <tr>\n",
              "      <th>8</th>\n",
              "      <td>BgC</td>\n",
              "      <td>88.27</td>\n",
              "      <td>89.23</td>\n",
              "    </tr>\n",
              "    <tr>\n",
              "      <th>7</th>\n",
              "      <td>AdaBoost</td>\n",
              "      <td>87.08</td>\n",
              "      <td>88.85</td>\n",
              "    </tr>\n",
              "    <tr>\n",
              "      <th>4</th>\n",
              "      <td>DT</td>\n",
              "      <td>81.14</td>\n",
              "      <td>85.71</td>\n",
              "    </tr>\n",
              "    <tr>\n",
              "      <th>3</th>\n",
              "      <td>NB</td>\n",
              "      <td>87.24</td>\n",
              "      <td>82.06</td>\n",
              "    </tr>\n",
              "  </tbody>\n",
              "</table>\n",
              "</div>\n",
              "    <div class=\"colab-df-buttons\">\n",
              "\n",
              "  <div class=\"colab-df-container\">\n",
              "    <button class=\"colab-df-convert\" onclick=\"convertToInteractive('df-de884aa0-7ce3-44b7-bc99-5fcb4d4737ad')\"\n",
              "            title=\"Convert this dataframe to an interactive table.\"\n",
              "            style=\"display:none;\">\n",
              "\n",
              "  <svg xmlns=\"http://www.w3.org/2000/svg\" height=\"24px\" viewBox=\"0 -960 960 960\">\n",
              "    <path d=\"M120-120v-720h720v720H120Zm60-500h600v-160H180v160Zm220 220h160v-160H400v160Zm0 220h160v-160H400v160ZM180-400h160v-160H180v160Zm440 0h160v-160H620v160ZM180-180h160v-160H180v160Zm440 0h160v-160H620v160Z\"/>\n",
              "  </svg>\n",
              "    </button>\n",
              "\n",
              "  <style>\n",
              "    .colab-df-container {\n",
              "      display:flex;\n",
              "      gap: 12px;\n",
              "    }\n",
              "\n",
              "    .colab-df-convert {\n",
              "      background-color: #E8F0FE;\n",
              "      border: none;\n",
              "      border-radius: 50%;\n",
              "      cursor: pointer;\n",
              "      display: none;\n",
              "      fill: #1967D2;\n",
              "      height: 32px;\n",
              "      padding: 0 0 0 0;\n",
              "      width: 32px;\n",
              "    }\n",
              "\n",
              "    .colab-df-convert:hover {\n",
              "      background-color: #E2EBFA;\n",
              "      box-shadow: 0px 1px 2px rgba(60, 64, 67, 0.3), 0px 1px 3px 1px rgba(60, 64, 67, 0.15);\n",
              "      fill: #174EA6;\n",
              "    }\n",
              "\n",
              "    .colab-df-buttons div {\n",
              "      margin-bottom: 4px;\n",
              "    }\n",
              "\n",
              "    [theme=dark] .colab-df-convert {\n",
              "      background-color: #3B4455;\n",
              "      fill: #D2E3FC;\n",
              "    }\n",
              "\n",
              "    [theme=dark] .colab-df-convert:hover {\n",
              "      background-color: #434B5C;\n",
              "      box-shadow: 0px 1px 3px 1px rgba(0, 0, 0, 0.15);\n",
              "      filter: drop-shadow(0px 1px 2px rgba(0, 0, 0, 0.3));\n",
              "      fill: #FFFFFF;\n",
              "    }\n",
              "  </style>\n",
              "\n",
              "    <script>\n",
              "      const buttonEl =\n",
              "        document.querySelector('#df-de884aa0-7ce3-44b7-bc99-5fcb4d4737ad button.colab-df-convert');\n",
              "      buttonEl.style.display =\n",
              "        google.colab.kernel.accessAllowed ? 'block' : 'none';\n",
              "\n",
              "      async function convertToInteractive(key) {\n",
              "        const element = document.querySelector('#df-de884aa0-7ce3-44b7-bc99-5fcb4d4737ad');\n",
              "        const dataTable =\n",
              "          await google.colab.kernel.invokeFunction('convertToInteractive',\n",
              "                                                    [key], {});\n",
              "        if (!dataTable) return;\n",
              "\n",
              "        const docLinkHtml = 'Like what you see? Visit the ' +\n",
              "          '<a target=\"_blank\" href=https://colab.research.google.com/notebooks/data_table.ipynb>data table notebook</a>'\n",
              "          + ' to learn more about interactive tables.';\n",
              "        element.innerHTML = '';\n",
              "        dataTable['output_type'] = 'display_data';\n",
              "        await google.colab.output.renderOutput(dataTable, element);\n",
              "        const docLink = document.createElement('div');\n",
              "        docLink.innerHTML = docLinkHtml;\n",
              "        element.appendChild(docLink);\n",
              "      }\n",
              "    </script>\n",
              "  </div>\n",
              "\n",
              "\n",
              "<div id=\"df-bd5f2dc1-535d-4ac8-81e9-8377423d2553\">\n",
              "  <button class=\"colab-df-quickchart\" onclick=\"quickchart('df-bd5f2dc1-535d-4ac8-81e9-8377423d2553')\"\n",
              "            title=\"Suggest charts\"\n",
              "            style=\"display:none;\">\n",
              "\n",
              "<svg xmlns=\"http://www.w3.org/2000/svg\" height=\"24px\"viewBox=\"0 0 24 24\"\n",
              "     width=\"24px\">\n",
              "    <g>\n",
              "        <path d=\"M19 3H5c-1.1 0-2 .9-2 2v14c0 1.1.9 2 2 2h14c1.1 0 2-.9 2-2V5c0-1.1-.9-2-2-2zM9 17H7v-7h2v7zm4 0h-2V7h2v10zm4 0h-2v-4h2v4z\"/>\n",
              "    </g>\n",
              "</svg>\n",
              "  </button>\n",
              "\n",
              "<style>\n",
              "  .colab-df-quickchart {\n",
              "      --bg-color: #E8F0FE;\n",
              "      --fill-color: #1967D2;\n",
              "      --hover-bg-color: #E2EBFA;\n",
              "      --hover-fill-color: #174EA6;\n",
              "      --disabled-fill-color: #AAA;\n",
              "      --disabled-bg-color: #DDD;\n",
              "  }\n",
              "\n",
              "  [theme=dark] .colab-df-quickchart {\n",
              "      --bg-color: #3B4455;\n",
              "      --fill-color: #D2E3FC;\n",
              "      --hover-bg-color: #434B5C;\n",
              "      --hover-fill-color: #FFFFFF;\n",
              "      --disabled-bg-color: #3B4455;\n",
              "      --disabled-fill-color: #666;\n",
              "  }\n",
              "\n",
              "  .colab-df-quickchart {\n",
              "    background-color: var(--bg-color);\n",
              "    border: none;\n",
              "    border-radius: 50%;\n",
              "    cursor: pointer;\n",
              "    display: none;\n",
              "    fill: var(--fill-color);\n",
              "    height: 32px;\n",
              "    padding: 0;\n",
              "    width: 32px;\n",
              "  }\n",
              "\n",
              "  .colab-df-quickchart:hover {\n",
              "    background-color: var(--hover-bg-color);\n",
              "    box-shadow: 0 1px 2px rgba(60, 64, 67, 0.3), 0 1px 3px 1px rgba(60, 64, 67, 0.15);\n",
              "    fill: var(--button-hover-fill-color);\n",
              "  }\n",
              "\n",
              "  .colab-df-quickchart-complete:disabled,\n",
              "  .colab-df-quickchart-complete:disabled:hover {\n",
              "    background-color: var(--disabled-bg-color);\n",
              "    fill: var(--disabled-fill-color);\n",
              "    box-shadow: none;\n",
              "  }\n",
              "\n",
              "  .colab-df-spinner {\n",
              "    border: 2px solid var(--fill-color);\n",
              "    border-color: transparent;\n",
              "    border-bottom-color: var(--fill-color);\n",
              "    animation:\n",
              "      spin 1s steps(1) infinite;\n",
              "  }\n",
              "\n",
              "  @keyframes spin {\n",
              "    0% {\n",
              "      border-color: transparent;\n",
              "      border-bottom-color: var(--fill-color);\n",
              "      border-left-color: var(--fill-color);\n",
              "    }\n",
              "    20% {\n",
              "      border-color: transparent;\n",
              "      border-left-color: var(--fill-color);\n",
              "      border-top-color: var(--fill-color);\n",
              "    }\n",
              "    30% {\n",
              "      border-color: transparent;\n",
              "      border-left-color: var(--fill-color);\n",
              "      border-top-color: var(--fill-color);\n",
              "      border-right-color: var(--fill-color);\n",
              "    }\n",
              "    40% {\n",
              "      border-color: transparent;\n",
              "      border-right-color: var(--fill-color);\n",
              "      border-top-color: var(--fill-color);\n",
              "    }\n",
              "    60% {\n",
              "      border-color: transparent;\n",
              "      border-right-color: var(--fill-color);\n",
              "    }\n",
              "    80% {\n",
              "      border-color: transparent;\n",
              "      border-right-color: var(--fill-color);\n",
              "      border-bottom-color: var(--fill-color);\n",
              "    }\n",
              "    90% {\n",
              "      border-color: transparent;\n",
              "      border-bottom-color: var(--fill-color);\n",
              "    }\n",
              "  }\n",
              "</style>\n",
              "\n",
              "  <script>\n",
              "    async function quickchart(key) {\n",
              "      const quickchartButtonEl =\n",
              "        document.querySelector('#' + key + ' button');\n",
              "      quickchartButtonEl.disabled = true;  // To prevent multiple clicks.\n",
              "      quickchartButtonEl.classList.add('colab-df-spinner');\n",
              "      try {\n",
              "        const charts = await google.colab.kernel.invokeFunction(\n",
              "            'suggestCharts', [key], {});\n",
              "      } catch (error) {\n",
              "        console.error('Error during call to suggestCharts:', error);\n",
              "      }\n",
              "      quickchartButtonEl.classList.remove('colab-df-spinner');\n",
              "      quickchartButtonEl.classList.add('colab-df-quickchart-complete');\n",
              "    }\n",
              "    (() => {\n",
              "      let quickchartButtonEl =\n",
              "        document.querySelector('#df-bd5f2dc1-535d-4ac8-81e9-8377423d2553 button');\n",
              "      quickchartButtonEl.style.display =\n",
              "        google.colab.kernel.accessAllowed ? 'block' : 'none';\n",
              "    })();\n",
              "  </script>\n",
              "</div>\n",
              "\n",
              "  <div id=\"id_5fadb725-37a3-45c2-89ea-649d05f1216a\">\n",
              "    <style>\n",
              "      .colab-df-generate {\n",
              "        background-color: #E8F0FE;\n",
              "        border: none;\n",
              "        border-radius: 50%;\n",
              "        cursor: pointer;\n",
              "        display: none;\n",
              "        fill: #1967D2;\n",
              "        height: 32px;\n",
              "        padding: 0 0 0 0;\n",
              "        width: 32px;\n",
              "      }\n",
              "\n",
              "      .colab-df-generate:hover {\n",
              "        background-color: #E2EBFA;\n",
              "        box-shadow: 0px 1px 2px rgba(60, 64, 67, 0.3), 0px 1px 3px 1px rgba(60, 64, 67, 0.15);\n",
              "        fill: #174EA6;\n",
              "      }\n",
              "\n",
              "      [theme=dark] .colab-df-generate {\n",
              "        background-color: #3B4455;\n",
              "        fill: #D2E3FC;\n",
              "      }\n",
              "\n",
              "      [theme=dark] .colab-df-generate:hover {\n",
              "        background-color: #434B5C;\n",
              "        box-shadow: 0px 1px 3px 1px rgba(0, 0, 0, 0.15);\n",
              "        filter: drop-shadow(0px 1px 2px rgba(0, 0, 0, 0.3));\n",
              "        fill: #FFFFFF;\n",
              "      }\n",
              "    </style>\n",
              "    <button class=\"colab-df-generate\" onclick=\"generateWithVariable('performance_df')\"\n",
              "            title=\"Generate code using this dataframe.\"\n",
              "            style=\"display:none;\">\n",
              "\n",
              "  <svg xmlns=\"http://www.w3.org/2000/svg\" height=\"24px\"viewBox=\"0 0 24 24\"\n",
              "       width=\"24px\">\n",
              "    <path d=\"M7,19H8.4L18.45,9,17,7.55,7,17.6ZM5,21V16.75L18.45,3.32a2,2,0,0,1,2.83,0l1.4,1.43a1.91,1.91,0,0,1,.58,1.4,1.91,1.91,0,0,1-.58,1.4L9.25,21ZM18.45,9,17,7.55Zm-12,3A5.31,5.31,0,0,0,4.9,8.1,5.31,5.31,0,0,0,1,6.5,5.31,5.31,0,0,0,4.9,4.9,5.31,5.31,0,0,0,6.5,1,5.31,5.31,0,0,0,8.1,4.9,5.31,5.31,0,0,0,12,6.5,5.46,5.46,0,0,0,6.5,12Z\"/>\n",
              "  </svg>\n",
              "    </button>\n",
              "    <script>\n",
              "      (() => {\n",
              "      const buttonEl =\n",
              "        document.querySelector('#id_5fadb725-37a3-45c2-89ea-649d05f1216a button.colab-df-generate');\n",
              "      buttonEl.style.display =\n",
              "        google.colab.kernel.accessAllowed ? 'block' : 'none';\n",
              "\n",
              "      buttonEl.onclick = () => {\n",
              "        google.colab.notebook.generateWithVariable('performance_df');\n",
              "      }\n",
              "      })();\n",
              "    </script>\n",
              "  </div>\n",
              "\n",
              "    </div>\n",
              "  </div>\n"
            ],
            "application/vnd.google.colaboratory.intrinsic+json": {
              "type": "dataframe",
              "variable_name": "performance_df",
              "summary": "{\n  \"name\": \"performance_df\",\n  \"rows\": 12,\n  \"fields\": [\n    {\n      \"column\": \"Algorithm\",\n      \"properties\": {\n        \"dtype\": \"string\",\n        \"num_unique_values\": 12,\n        \"samples\": [\n          \"DT\",\n          \"AdaBoost\",\n          \"KN\"\n        ],\n        \"semantic_type\": \"\",\n        \"description\": \"\"\n      }\n    },\n    {\n      \"column\": \"Accuracy\",\n      \"properties\": {\n        \"dtype\": \"number\",\n        \"std\": 9.179722218019453,\n        \"min\": 59.35,\n        \"max\": 93.03,\n        \"num_unique_values\": 12,\n        \"samples\": [\n          81.14,\n          87.08,\n          59.35\n        ],\n        \"semantic_type\": \"\",\n        \"description\": \"\"\n      }\n    },\n    {\n      \"column\": \"Precision\",\n      \"properties\": {\n        \"dtype\": \"number\",\n        \"std\": 4.2124047511936435,\n        \"min\": 82.06,\n        \"max\": 98.66,\n        \"num_unique_values\": 12,\n        \"samples\": [\n          85.71,\n          88.85,\n          98.66\n        ],\n        \"semantic_type\": \"\",\n        \"description\": \"\"\n      }\n    }\n  ]\n}"
            }
          },
          "metadata": {},
          "execution_count": 33
        }
      ]
    },
    {
      "cell_type": "markdown",
      "source": [
        "##Stacking classifier"
      ],
      "metadata": {
        "id": "6OQaCfRJmaoh"
      }
    },
    {
      "cell_type": "code",
      "source": [
        "estimators=[('svm', svc), ('PAC',pac), ('RF', rfc)]\n",
        "final_estimator=XGBClassifier(n_estimators=50,random_state=2)"
      ],
      "metadata": {
        "id": "fRlWChJshUHz"
      },
      "execution_count": null,
      "outputs": []
    },
    {
      "cell_type": "code",
      "source": [
        "from sklearn.ensemble import StackingClassifier\n",
        "clf = StackingClassifier(estimators=estimators, final_estimator=final_estimator)"
      ],
      "metadata": {
        "id": "8jbUMzNAmkFu"
      },
      "execution_count": null,
      "outputs": []
    },
    {
      "cell_type": "code",
      "source": [
        "clf.fit(tfidf_train,y_train)\n",
        "y_pred = clf.predict(tfidf_test)\n",
        "print(\"Accuracy\",accuracy_score(y_test,y_pred))\n",
        "print(\"Precision\",precision_score(y_test,y_pred))"
      ],
      "metadata": {
        "id": "GIAxq6Z8mrfl",
        "colab": {
          "base_uri": "https://localhost:8080/"
        },
        "outputId": "4ce4f4e1-1caa-44e7-fef0-28d1de7c6a06"
      },
      "execution_count": null,
      "outputs": [
        {
          "output_type": "stream",
          "name": "stdout",
          "text": [
            "Accuracy 0.9358161648177497\n",
            "Precision 0.939117199391172\n"
          ]
        }
      ]
    },
    {
      "cell_type": "code",
      "source": [
        "cm=confusion_matrix(y_test, y_pred)\n",
        "disp = ConfusionMatrixDisplay(confusion_matrix=cm,display_labels=pac.classes_)\n",
        "disp.plot()\n",
        "plt.show()"
      ],
      "metadata": {
        "id": "jTALtJxgpC3O",
        "colab": {
          "base_uri": "https://localhost:8080/",
          "height": 449
        },
        "outputId": "f0ed9280-03f7-41e7-c38a-e8d07db4b79a"
      },
      "execution_count": null,
      "outputs": [
        {
          "output_type": "display_data",
          "data": {
            "text/plain": [
              "<Figure size 640x480 with 2 Axes>"
            ],
            "image/png": "[encoded data removed]"
          },
          "metadata": {}
        }
      ]
    },
    {
      "cell_type": "code",
      "source": [
        "import pickle\n",
        "pickle.dump(tfidf,open('tfidf.pkl','wb'))\n",
        "pickle.dump(mnb,open('model.pkl','wb'))"
      ],
      "metadata": {
        "id": "s4-vJDoA3zuN"
      },
      "execution_count": null,
      "outputs": []
    },
    {
      "cell_type": "code",
      "source": [
        "input_sms=input(\"Enter the news: \")\n",
        "transformed_sms = transform_text(input_sms)\n",
        "vector_input = tfidf.transform([transformed_sms])\n",
        "result = clf.predict(vector_input)[0]\n",
        "if result == 1:\n",
        "  print(\"Real News\")\n",
        "else:\n",
        "  print(\"Fake News\")"
      ],
      "metadata": {
        "colab": {
          "base_uri": "https://localhost:8080/"
        },
        "id": "_lTpX_gm9Xt3",
        "outputId": "32663e7e-42a8-4bb3-bfa6-9c429a9639eb"
      },
      "execution_count": null,
      "outputs": [
        {
          "output_type": "stream",
          "name": "stdout",
          "text": [
            "Enter the news: \"Daniel Greenfield, a Shillman Journalism Fellow at the Freedom Center, is a New York writer focusing on radical Islam.  In the final stretch of the election, Hillary Rodham Clinton has gone to war with the FBI.  The word “unprecedented” has been thrown around so often this election that it ought to be retired. But it’s still unprecedented for the nominee of a major political party to go war with the FBI.  But that’s exactly what Hillary and her people have done. Coma patients just waking up now and watching an hour of CNN from their hospital beds would assume that FBI Director James Comey is Hillary’s opponent in this election.  The FBI is under attack by everyone from Obama to CNN. Hillary’s people have circulated a letter attacking Comey. There are currently more media hit pieces lambasting him than targeting Trump. It wouldn’t be too surprising if the Clintons or their allies were to start running attack ads against the FBI.  The FBI’s leadership is being warned that the entire left-wing establishment will form a lynch mob if they continue going after Hillary. And the FBI’s credibility is being attacked by the media and the Democrats to preemptively head off the results of the investigation of the Clinton Foundation and Hillary Clinton.  The covert struggle between FBI agents and Obama’s DOJ people has gone explosively public.  The New York Times has compared Comey to J. Edgar Hoover. Its bizarre headline, “James Comey Role Recalls Hoover’s FBI, Fairly or Not” practically admits up front that it’s spouting nonsense. The Boston Globe has published a column calling for Comey’s resignation. Not to be outdone, Time has an editorial claiming that the scandal is really an attack on all women.  James Carville appeared on MSNBC to remind everyone that he was still alive and insane. He accused Comey of coordinating with House Republicans and the KGB. And you thought the “vast right wing conspiracy” was a stretch.  Countless media stories charge Comey with violating procedure. Do you know what’s a procedural violation? Emailing classified information stored on your bathroom server.  Senator Harry Reid has sent Comey a letter accusing him of violating the Hatch Act. The Hatch Act is a nice idea that has as much relevance in the age of Obama as the Tenth Amendment. But the cable news spectrum quickly filled with media hacks glancing at the Wikipedia article on the Hatch Act under the table while accusing the FBI director of one of the most awkward conspiracies against Hillary ever.  If James Comey is really out to hurt Hillary, he picked one hell of a strange way to do it.  Not too long ago Democrats were breathing a sigh of relief when he gave Hillary Clinton a pass in a prominent public statement. If he really were out to elect Trump by keeping the email scandal going, why did he trash the investigation? Was he on the payroll of House Republicans and the KGB back then and playing it coy or was it a sudden development where Vladimir Putin and Paul Ryan talked him into taking a look at Anthony Weiner’s computer?  Either Comey is the most cunning FBI director that ever lived or he’s just awkwardly trying to navigate a political mess that has trapped him between a DOJ leadership whose political futures are tied to Hillary’s victory and his own bureau whose apolitical agents just want to be allowed to do their jobs.  The only truly mysterious thing is why Hillary and her associates decided to go to war with a respected Federal agency. Most Americans like the FBI while Hillary Clinton enjoys a 60% unfavorable rating.  And it’s an interesting question.  Hillary’s old strategy was to lie and deny that the FBI even had a criminal investigation underway. Instead her associates insisted that it was a security review. The FBI corrected her and she shrugged it off. But the old breezy denial approach has given way to a savage assault on the FBI.  Pretending that nothing was wrong was a bad strategy, but it was a better one that picking a fight with the FBI while lunatic Clinton associates try to claim that the FBI is really the KGB.  There are two possible explanations.  Hillary Clinton might be arrogant enough to lash out at the FBI now that she believes that victory is near. The same kind of hubris that led her to plan her victory fireworks display could lead her to declare a war on the FBI for irritating her during the final miles of her campaign.  But the other explanation is that her people panicked.  Going to war with the FBI is not the behavior of a smart and focused presidential campaign. It’s an act of desperation. When a presidential candidate decides that her only option is to try and destroy the credibility of the FBI, that’s not hubris, it’s fear of what the FBI might be about to reveal about her.  During the original FBI investigation, Hillary Clinton was confident that she could ride it out. And she had good reason for believing that. But that Hillary Clinton is gone. In her place is a paranoid wreck. Within a short space of time the “positive” Clinton campaign promising to unite the country has been replaced by a desperate and flailing operation that has focused all its energy on fighting the FBI.  There’s only one reason for such bizarre behavior.  The Clinton campaign has decided that an FBI investigation of the latest batch of emails poses a threat to its survival. And so it’s gone all in on fighting the FBI. It’s an unprecedented step born of fear. It’s hard to know whether that fear is justified. But the existence of that fear already tells us a whole lot.  Clinton loyalists rigged the old investigation. They knew the outcome ahead of time as well as they knew the debate questions. Now suddenly they are no longer in control. And they are afraid.  You can smell the fear.  The FBI has wiretaps from the investigation of the Clinton Foundation. It’s finding new emails all the time. And Clintonworld panicked. The spinmeisters of Clintonworld have claimed that the email scandal is just so much smoke without fire. All that’s here is the appearance of impropriety without any of the substance. But this isn’t how you react to smoke. It’s how you respond to a fire.  The misguided assault on the FBI tells us that Hillary Clinton and her allies are afraid of a revelation bigger than the fundamental illegality of her email setup. The email setup was a preemptive cover up. The Clinton campaign has panicked badly out of the belief, right or wrong, that whatever crime the illegal setup was meant to cover up is at risk of being exposed.  The Clintons have weathered countless scandals over the years. Whatever they are protecting this time around is bigger than the usual corruption, bribery, sexual assaults and abuses of power that have followed them around throughout the years. This is bigger and more damaging than any of the allegations that have already come out. And they don’t want FBI investigators anywhere near it.  The campaign against Comey is pure intimidation. It’s also a warning. Any senior FBI people who value their careers are being warned to stay away. The Democrats are closing ranks around their nominee against the FBI. It’s an ugly and unprecedented scene. It may also be their last stand.  Hillary Clinton has awkwardly wound her way through numerous scandals in just this election cycle. But she’s never shown fear or desperation before. Now that has changed. Whatever she is afraid of, it lies buried in her emails with Huma Abedin. And it can bring her down like nothing else has. \n",
            "Fake News\n"
          ]
        }
      ]
    }
  ]
}